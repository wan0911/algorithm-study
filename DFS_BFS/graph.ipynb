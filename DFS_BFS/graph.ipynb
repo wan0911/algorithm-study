{
 "cells": [
  {
   "attachments": {},
   "cell_type": "markdown",
   "metadata": {},
   "source": [
    "### 1.BFS\n",
    "    같은 level 별!"
   ]
  },
  {
   "cell_type": "code",
   "execution_count": 1,
   "metadata": {},
   "outputs": [],
   "source": [
    "from collections import deque"
   ]
  },
  {
   "cell_type": "code",
   "execution_count": null,
   "metadata": {},
   "outputs": [],
   "source": [
    "def bfs(graph, start_v):\n",
    "    visited = [start_v]\n",
    "    q = deque(start_v)  # FIFO, 대기\n",
    "    \n",
    "    while q:\n",
    "        cur_v = q.pop(0)\n",
    "        \n",
    "        for v in graph[cur_v]:  # graph = 인접 리스트\n",
    "            if v not in visited:\n",
    "                visited.append(v)\n",
    "                q.append(v)\n",
    "        \n",
    "    return visited"
   ]
  },
  {
   "attachments": {},
   "cell_type": "markdown",
   "metadata": {},
   "source": [
    "### 2. DFS"
   ]
  },
  {
   "cell_type": "code",
   "execution_count": null,
   "metadata": {},
   "outputs": [],
   "source": [
    "graph = {}\n",
    "visited = []\n",
    "\n",
    "def dfs(cur_v):\n",
    "    visited.append(cur_v)\n",
    "    \n",
    "    for v in graph[cur_v]:\n",
    "        if v not in visited:    # 인접 리스트! (원소)\n",
    "            dfs(v)"
   ]
  },
  {
   "cell_type": "code",
   "execution_count": null,
   "metadata": {},
   "outputs": [],
   "source": []
  },
  {
   "cell_type": "code",
   "execution_count": 6,
   "metadata": {},
   "outputs": [
    {
     "ename": "SyntaxError",
     "evalue": "invalid syntax (3571386166.py, line 17)",
     "output_type": "error",
     "traceback": [
      "\u001b[0;36m  Cell \u001b[0;32mIn[6], line 17\u001b[0;36m\u001b[0m\n\u001b[0;31m    for\u001b[0m\n\u001b[0m        ^\u001b[0m\n\u001b[0;31mSyntaxError\u001b[0m\u001b[0;31m:\u001b[0m invalid syntax\n"
     ]
    }
   ],
   "source": [
    "from collections import deque\n",
    "\n",
    "def numIslands(grid):\n",
    "    number_of_islands = 0\n",
    "    row = len(grid)   # 행\n",
    "    col = len(grid[0]) # 열\n",
    "    visited = [[False]*n for _ in range(m)]\n",
    "    \n",
    "    def bfs(x, y):\n",
    "        dx = [-1, 1, 0, 0]\n",
    "        dy = [0, 0, -1, 1]\n",
    "        visited[x][y] == True\n",
    "        q = deque()\n",
    "        q.append((x,y))\n",
    "        while q:\n",
    "            cur_x, cur_y = q.pop(0)\n",
    "            for i in range(4):\n",
    "                next_x = cur_x + dx[i]\n",
    "                next_y = cur_y + dy[i]\n",
    "                if next_x >= 0 and next_x < m and next_y >= 0 and next_y < n:\n",
    "                    if grid[next_x][next_y] == \"1\" and not visited[i][j]:\n",
    "                        visited[next_x][next_y] == True\n",
    "                        q.append([next_x, next_y])\n",
    "    \n",
    "    for i in range(m):\n",
    "        for j in range(n):\n",
    "            if grid[i][j] == \"1\" and not visited[i][j]:\n",
    "                bfs(i, j)\n",
    "                number_of_islands += 1\n",
    "    \n",
    "    return number_of_islands\n"
   ]
  },
  {
   "attachments": {},
   "cell_type": "markdown",
   "metadata": {},
   "source": [
    "#### Q1. numbers of islands"
   ]
  },
  {
   "cell_type": "code",
   "execution_count": null,
   "metadata": {},
   "outputs": [],
   "source": [
    "def numIslands(grid):\n",
    "    number_of_island = 0\n",
    "    row = len(grid)\n",
    "    col = len(grid[0])\n",
    "    visited = [[False]*col for _ in range(row)]\n",
    "    \n",
    "    # bfs 함수 정의\n",
    "    def bfs(x, y):\n",
    "        dx = [0, 0, 1, -1]\n",
    "        dy = [1, -1, 0, 0]\n",
    "        visited[x][y] = True\n",
    "        q = deque()    \n",
    "        q.append((x, y))\n",
    "        \n",
    "        while q:\n",
    "            cur_x, cur_y = q.pop(0)\n",
    "            for i in range(4):\n",
    "                next_x = cur_x + dx[i]\n",
    "                next_y = cur_y + dy[i]\n",
    "                \n",
    "                if 0 <= next_x < row and 0 <= next_y < col:\n",
    "                    if grid[next_x][next_y] == 1 and not visited[next][next_y]:\n",
    "                        visited[next_x][next_y] = True\n",
    "                        q.append((next_x, next_y))\n",
    "        \n",
    "    # bfs -> 모든 정점 탐방\n",
    "    for i in range(row):\n",
    "        for j in range(col):\n",
    "            if grid[i][j] == \"1\" and not visited[i][j]:\n",
    "                bfs(i, j)\n",
    "                number_of_island += 1\n",
    "                \n",
    "    return number_of_island"
   ]
  },
  {
   "cell_type": "code",
   "execution_count": null,
   "metadata": {},
   "outputs": [],
   "source": []
  },
  {
   "attachments": {},
   "cell_type": "markdown",
   "metadata": {},
   "source": [
    "### Q.2"
   ]
  },
  {
   "cell_type": "code",
   "execution_count": 30,
   "metadata": {},
   "outputs": [
    {
     "name": "stdout",
     "output_type": "stream",
     "text": [
      "deque([])\n",
      "0 1 deque([(0, 1, 2)])\n",
      "deque([])\n",
      "0 2 deque([(0, 2, 3)])\n",
      "1 2 deque([(0, 2, 3), (1, 2, 3)])\n",
      "deque([(1, 2, 3)])\n",
      "deque([])\n",
      "2 2 deque([(2, 2, 4)])\n",
      "deque([])\n",
      "4\n"
     ]
    }
   ],
   "source": [
    "# 경로 길이 저장해야 함\n",
    "\n",
    "# q는 다음 노드 방문 후 사전 예약\n",
    "\n",
    "def shortest(grid):\n",
    "    if grid[0][0] != 0: return -1\n",
    "    \n",
    "    shortest_len = -1\n",
    "    row = len(grid)\n",
    "    col = len(grid[0])\n",
    "    delta = [(1, 0), (-1, 0), (0, 1), (0, -1),\n",
    "            (1, 1), (1, -1), (-1, 1), (-1, -1)]\n",
    "\n",
    "    visited = [[False]*col for _ in range(row)]         # 방문과 예약\n",
    "    q = deque()\n",
    "    q.append((0, 0, 1))\n",
    "    \n",
    "    while q:\n",
    "        cur_x, cur_y, cur_len = q.popleft()\n",
    "        visited[cur_x][cur_y] = True\n",
    "        \n",
    "        # 목적지에 도착했을 때가, 최단 거리!\n",
    "        if cur_x == row -1 and cur_y == col -1:\n",
    "            shortest_len = cur_len\n",
    "            break\n",
    "        \n",
    "        for dx, dy in delta:\n",
    "            next_x = cur_x + dx\n",
    "            next_y = cur_y + dy\n",
    "            \n",
    "            if 0 <= next_x < row and -0 <= next_y < col:\n",
    "                if grid[next_x][next_y] == 0 and not visited[next_x][next_y]:\n",
    "                    q.append((next_x, next_y, cur_len + 1))\n",
    "                    visited[next_x][next_y] = True\n",
    "        \n",
    "    return print(shortest_len)\n",
    "\n",
    "shortest([[0,0,0],[1,1,0],[1,1,0]])"
   ]
  },
  {
   "cell_type": "code",
   "execution_count": null,
   "metadata": {},
   "outputs": [],
   "source": [
    "## 리뷰\n",
    "1. bfs 형식\n",
    "    for i in range(row):\n",
    "        for j in range(col):\n",
    "\n",
    "2. 작동 원리 2문제 그려보기!"
   ]
  },
  {
   "cell_type": "code",
   "execution_count": null,
   "metadata": {},
   "outputs": [],
   "source": []
  },
  {
   "attachments": {},
   "cell_type": "markdown",
   "metadata": {},
   "source": [
    "### 복습\n",
    "---"
   ]
  },
  {
   "cell_type": "code",
   "execution_count": null,
   "metadata": {},
   "outputs": [],
   "source": [
    "# 1. bfs 복기\n",
    "def bfs(graph, start_v):\n",
    "    # 1. 방문\n",
    "    # 2. 대기\n",
    "    visited = [start_v]\n",
    "    q = deque()\n",
    "    q.append(start_v)\n",
    "    \n",
    "    while q:\n",
    "        cur_v = q.popleft()\n",
    "        # start_v와 관련된 vertex 방문 처리\n",
    "        for v in graph[cur_v]:\n",
    "            if v not visited:\n",
    "                visited[v] = True\n",
    "                q.append(v)\n",
    "            \n",
    "            \n",
    "# 2. dfs 복기\n",
    "visited = []\n",
    "\n",
    "def dfs(cur_v):\n",
    "    visited.append(cur_v)\n",
    "    \n",
    "    for v in graph[cur_v]:\n",
    "        if v not in visited:\n",
    "            dfs(v)"
   ]
  },
  {
   "cell_type": "code",
   "execution_count": null,
   "metadata": {},
   "outputs": [],
   "source": [
    "# Q1. 풀이 1번\n",
    "class Solution(object):\n",
    "    def numIslands(self, grid):\n",
    "        number_of_islands = 0\n",
    "        row = len(grid)xx\n",
    "        col = len(grid[0])\n",
    "        visited = [[False]*col for _ in range(row)]\n",
    "        delta = [(1, 0), (-1, 0), (0, 1), (0, -1)]\n",
    "        \n",
    "        def bfs(i, j):\n",
    "            q = deque()\n",
    "            q.append((i, j))\n",
    "            \n",
    "            while q:\n",
    "                cur_x, cur_y = q.popleft()\n",
    "                visited[cur_x][cur_y] = True\n",
    "                \n",
    "                for dx, dy in delta:\n",
    "                    next_x = cur_x + dx\n",
    "                    next_y = cur_y + dy\n",
    "                    \n",
    "                    # 경계 조건\n",
    "                    if 0 <= next_x < row and 0 <= next_y < col:\n",
    "                        if grid[next_x][next_y] == \"1\" and visited[next_x][next_y] == False:\n",
    "                            visited[next_x][next_y] = True\n",
    "                            q.append((next_x, next_y))\n",
    "        \n",
    "        for i in range(row):\n",
    "            for j in range(col):\n",
    "                if grid[i][j] == \"1\" and visited[i][j] == False:\n",
    "                    bfs(i, j)\n",
    "                    number_of_islands += 1\n",
    "                \n",
    "        return number_of_islands\n"
   ]
  },
  {
   "cell_type": "code",
   "execution_count": 23,
   "metadata": {},
   "outputs": [
    {
     "name": "stdout",
     "output_type": "stream",
     "text": [
      "1\n"
     ]
    }
   ],
   "source": [
    "# Q2. 문제 풀이\n",
    "\n",
    "def shortestPathBinaryMatrix(grid):\n",
    "        # 최단 경로 -> 길이 count\n",
    "        # 암시적 그래프 -> dx, dy\n",
    "        # 수직, 수평, 대각선 -> delta\n",
    "        # (0,0)에서 시작해서 최단 경로만!, 모든 정점 탐색 x\n",
    "\n",
    "        if grid[0][0] == 1: return -1\n",
    "\n",
    "        n = len(grid)\n",
    "        visited = [[False]*n for _ in range(n)]\n",
    "        delta = [(1, 0), (-1, 0), (0, 1), (0, -1),\n",
    "                (1, 1), (1, -1), (-1, 1), (-1, -1)]\n",
    "\n",
    "        def bfs():\n",
    "            q = deque()\n",
    "            q.append((0, 0))\n",
    "            shortest_len = 1\n",
    "\n",
    "            while q:\n",
    "                cur_x, cur_y = q.popleft()\n",
    "                visited[cur_x][cur_y] = True\n",
    "\n",
    "                for dx, dy in delta:\n",
    "                    next_x = cur_x + dx\n",
    "                    next_y = cur_y + dy\n",
    "\n",
    "                    if 0 <= next_x < n and 0 <= next_y < n:\n",
    "                        if grid[next_x][next_y] == 0 and visited[next_x][next_y] == False:\n",
    "                            visited[next_x][next_y] = True\n",
    "                            q.append((next_x, next_y))\n",
    "                            shortest_len += 1\n",
    "\n",
    "            return print(shortest_len)\n",
    "        \n",
    "        bfs()\n",
    "        \n",
    "        \n",
    "shortestPathBinaryMatrix([[0,1],[1,0]])"
   ]
  },
  {
   "cell_type": "code",
   "execution_count": null,
   "metadata": {},
   "outputs": [],
   "source": [
    "from collections import deque\n",
    "\n",
    "class Solution(object):\n",
    "    def shortestPathBinaryMatrix(self, grid):\n",
    "        if grid[0][0] == 1: return -1\n",
    "        dx = [0, 0, 1, -1, -1, -1, 1, 1]\n",
    "        dy = [1, -1, 0, 0, -1, 1, -1, 1]\n",
    "        n = len(grid)\n",
    "        visit = [[0] * n for _ in range(n)]\n",
    "\n",
    "        def bfs():\n",
    "            q = deque([(0, 0)])\n",
    "            visit[0][0] = 1\n",
    "            while q:\n",
    "                x, y = q.popleft()\n",
    "                \n",
    "                for i in range(8):\n",
    "                    nx = x + dx[i]\n",
    "                    ny = y + dy[i]\n",
    "                    if 0 <= nx < n and 0 <= ny < n:\n",
    "                        if not grid[nx][ny] and not visit[nx][ny]:\n",
    "                            q.append((nx, ny))\n",
    "                            visit[nx][ny] = visit[x][y] + 1\n",
    "\n",
    "            return visit[n - 1][n - 1] if visit[n - 1][n - 1] else -1\n",
    "\n",
    "        return bfs()"
   ]
  },
  {
   "cell_type": "code",
   "execution_count": null,
   "metadata": {},
   "outputs": [],
   "source": [
    "from collections import deque\n",
    "\n",
    "class Solution:\n",
    "    def shortestPathBinaryMatrix(self, grid: List[List[int]]) -> int:\n",
    "        q = deque([])\n",
    "        if not grid[0][0]:\n",
    "            # (x, y, level)\n",
    "            q.append((0, 0, 1))\n",
    "            grid[0][0] = 1\n",
    "            if len(grid) == 1 and len(grid[0]) == 1:\n",
    "                return 1\n",
    "        else:\n",
    "            return -1\n",
    "        \n",
    "        if grid[len(grid) - 1][len(grid[0]) - 1]:\n",
    "            return -1\n",
    "        \n",
    "        delta = [(-1, -1), (-1, 0), (-1, 1), (0, -1), (0, 1), (1, -1), (1, 0), (1, 1)]\n",
    "        \n",
    "        while q:\n",
    "            x, y, level = q.popleft()\n",
    "            for dx, dy in delta:\n",
    "                next_x = x + dx\n",
    "                next_y = y + dy\n",
    "                if next_x >= 0 and next_x < len(grid) and next_y >= 0 and next_y < len(grid[0]) and not grid[next_x][next_y]:\n",
    "                    if next_x == len(grid) - 1 and next_y == len(grid[0]) - 1:\n",
    "                        return level + 1\n",
    "                    grid[next_x][next_y] = 1\n",
    "                    q.append((next_x, next_y, level + 1))\n",
    "        return -1"
   ]
  }
 ],
 "metadata": {
  "kernelspec": {
   "display_name": "temp1",
   "language": "python",
   "name": "python3"
  },
  "language_info": {
   "codemirror_mode": {
    "name": "ipython",
    "version": 3
   },
   "file_extension": ".py",
   "mimetype": "text/x-python",
   "name": "python",
   "nbconvert_exporter": "python",
   "pygments_lexer": "ipython3",
   "version": "3.10.8"
  },
  "orig_nbformat": 4
 },
 "nbformat": 4,
 "nbformat_minor": 2
}
